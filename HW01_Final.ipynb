{
 "cells": [
  {
   "cell_type": "markdown",
   "id": "c73cf802",
   "metadata": {},
   "source": [
    "# Week One Homework"
   ]
  },
  {
   "cell_type": "markdown",
   "id": "1c49d46a",
   "metadata": {},
   "source": [
    "### While AI-assisted tools such as ChatGPT will be used in the completion of this assignment, the use of published documentation online will be used in the assistance of writing code.\n",
    "<p>The documentation that will be used is as follows:<br>\n",
    "    &emsp;\n",
    "        - <a href=\"https://docs.python.org/3/\">docs.python.org</a><br>\n",
    "    &emsp;\n",
    "        - <a href=\"https://pandas.pydata.org/docs/user_guide/index.html\">pandas.pydata.org</a>\n",
    "</p>\n",
    "<p>The ChatGPT chat log:<br>\n",
    "   &emsp;- <a href=\"https://chatgpt.com/share/da60cd77-3e9a-4c30-9dcf-901ed0570be7\">https://chatgpt.com/share/da60cd77-3e9a-4c30-9dcf-901ed0570be7</a>\n",
    "</p>"
   ]
  },
  {
   "cell_type": "markdown",
   "id": "ce207aaf",
   "metadata": {},
   "source": [
    "<h2>Pre-lecture Homework</h2>"
   ]
  },
  {
   "cell_type": "markdown",
   "id": "60fc7705",
   "metadata": {},
   "source": [
    "<h3>Step 1: Grabbing a dataset from a tutorial and the subsequent relevant code to accompany it</h3>\n",
    "<p>I will be using the <a href=\"https://raw.githubusercontent.com/datasets/co2-fossil-global/master/global.csv\">\"Global CO2 Emissions\"</a> Dataset from my TUT0207 tutorial. The accompanying code is displayed below."
   ]
  },
  {
   "cell_type": "code",
   "execution_count": 58,
   "id": "e8271a03",
   "metadata": {},
   "outputs": [
    {
     "name": "stdout",
     "output_type": "stream",
     "text": [
      "   Year  Total  Gas Fuel  Liquid Fuel  Solid Fuel  Cement  Gas Flaring   \n",
      "0  1751      3         0            0           3       0            0  \\\n",
      "1  1752      3         0            0           3       0            0   \n",
      "2  1753      3         0            0           3       0            0   \n",
      "3  1754      3         0            0           3       0            0   \n",
      "4  1755      3         0            0           3       0            0   \n",
      "\n",
      "   Per Capita  \n",
      "0         NaN  \n",
      "1         NaN  \n",
      "2         NaN  \n",
      "3         NaN  \n",
      "4         NaN  \n"
     ]
    }
   ],
   "source": [
    "import pandas as pd\n",
    "\n",
    "# Step 1: Download the CSV file\n",
    "url = 'https://raw.githubusercontent.com/datasets/co2-fossil-global/master/global.csv'\n",
    "\n",
    "# Step 3: Read the CSV data into a DataFrame\n",
    "df = pd.read_csv(url)\n",
    "\n",
    "# Step 4: Display the DataFrame (optional)\n",
    "print(df.head())"
   ]
  },
  {
   "cell_type": "markdown",
   "id": "12352c93",
   "metadata": {},
   "source": [
    "<h3>Step 2: Asking ChatGPT to produce code on how many rows of data are contained within the dataset</h3>\n",
    "<p>ChatGPT has given me a recommendation to use the \"df.shape\" attribute, as it is an array containing the length and width of the dataframe. By asking for the zero index, we are retrieving only the number of rows whereas the one index would return the number of collumns.</p>"
   ]
  },
  {
   "cell_type": "code",
   "execution_count": 59,
   "id": "62f0f183",
   "metadata": {},
   "outputs": [
    {
     "name": "stdout",
     "output_type": "stream",
     "text": [
      "The DataFrame has 260 rows.\n"
     ]
    }
   ],
   "source": [
    "# Print the number of rows in the DataFrame\n",
    "print(f'The DataFrame has {df.shape[0]} rows.')"
   ]
  },
  {
   "cell_type": "markdown",
   "id": "09bda549",
   "metadata": {},
   "source": [
    "<h3>Step 3: Asking ChatGPT to produce code which will create summaries about the columns for my dataframe</h3>"
   ]
  },
  {
   "cell_type": "markdown",
   "id": "06220512",
   "metadata": {},
   "source": [
    "<p>The code seen below is taken directly from ChatGPT and WILL PRODUCE an error.</p>"
   ]
  },
  {
   "cell_type": "code",
   "execution_count": 60,
   "id": "dcd2068b",
   "metadata": {},
   "outputs": [
    {
     "name": "stdout",
     "output_type": "stream",
     "text": [
      "Summary statistics:\n",
      "              Year        Total    Gas Fuel  Liquid Fuel   Solid Fuel   \n",
      "count   260.000000   260.000000   260.00000   260.000000   260.000000  \\\n",
      "mean   1880.500000  1402.788462   185.20000   495.819231   674.569231   \n",
      "std      75.199734  2253.098527   396.58556   934.308074   868.368580   \n",
      "min    1751.000000     3.000000     0.00000     0.000000     3.000000   \n",
      "25%    1815.750000    12.750000     0.00000     0.000000    12.750000   \n",
      "50%    1880.500000   239.500000     0.00000     3.000000   236.000000   \n",
      "75%    1945.250000  1385.000000    59.50000   279.250000  1023.500000   \n",
      "max    2010.000000  9167.000000  1702.00000  3122.000000  3842.000000   \n",
      "\n",
      "           Cement  Gas Flaring  Per Capita  \n",
      "count  260.000000   260.000000   61.000000  \n",
      "mean    34.161538    13.065385    1.054754  \n",
      "std     78.899604    26.311315    0.178630  \n",
      "min      0.000000     0.000000    0.640000  \n",
      "25%      0.000000     0.000000    0.940000  \n",
      "50%      0.000000     0.000000    1.120000  \n",
      "75%     12.000000     0.000000    1.170000  \n",
      "max    450.000000   110.000000    1.330000  \n"
     ]
    },
    {
     "ename": "KeyError",
     "evalue": "'column_name'",
     "output_type": "error",
     "traceback": [
      "\u001b[1;31m---------------------------------------------------------------------------\u001b[0m",
      "\u001b[1;31mKeyError\u001b[0m                                  Traceback (most recent call last)",
      "File \u001b[1;32m~\\AppData\\Local\\Packages\\PythonSoftwareFoundation.Python.3.10_qbz5n2kfra8p0\\LocalCache\\local-packages\\Python310\\site-packages\\pandas\\core\\indexes\\base.py:3652\u001b[0m, in \u001b[0;36mIndex.get_loc\u001b[1;34m(self, key)\u001b[0m\n\u001b[0;32m   3651\u001b[0m \u001b[38;5;28;01mtry\u001b[39;00m:\n\u001b[1;32m-> 3652\u001b[0m     \u001b[38;5;28;01mreturn\u001b[39;00m \u001b[38;5;28;43mself\u001b[39;49m\u001b[38;5;241;43m.\u001b[39;49m\u001b[43m_engine\u001b[49m\u001b[38;5;241;43m.\u001b[39;49m\u001b[43mget_loc\u001b[49m\u001b[43m(\u001b[49m\u001b[43mcasted_key\u001b[49m\u001b[43m)\u001b[49m\n\u001b[0;32m   3653\u001b[0m \u001b[38;5;28;01mexcept\u001b[39;00m \u001b[38;5;167;01mKeyError\u001b[39;00m \u001b[38;5;28;01mas\u001b[39;00m err:\n",
      "File \u001b[1;32m~\\AppData\\Local\\Packages\\PythonSoftwareFoundation.Python.3.10_qbz5n2kfra8p0\\LocalCache\\local-packages\\Python310\\site-packages\\pandas\\_libs\\index.pyx:147\u001b[0m, in \u001b[0;36mpandas._libs.index.IndexEngine.get_loc\u001b[1;34m()\u001b[0m\n",
      "File \u001b[1;32m~\\AppData\\Local\\Packages\\PythonSoftwareFoundation.Python.3.10_qbz5n2kfra8p0\\LocalCache\\local-packages\\Python310\\site-packages\\pandas\\_libs\\index.pyx:176\u001b[0m, in \u001b[0;36mpandas._libs.index.IndexEngine.get_loc\u001b[1;34m()\u001b[0m\n",
      "File \u001b[1;32mpandas\\_libs\\hashtable_class_helper.pxi:7080\u001b[0m, in \u001b[0;36mpandas._libs.hashtable.PyObjectHashTable.get_item\u001b[1;34m()\u001b[0m\n",
      "File \u001b[1;32mpandas\\_libs\\hashtable_class_helper.pxi:7088\u001b[0m, in \u001b[0;36mpandas._libs.hashtable.PyObjectHashTable.get_item\u001b[1;34m()\u001b[0m\n",
      "\u001b[1;31mKeyError\u001b[0m: 'column_name'",
      "\nThe above exception was the direct cause of the following exception:\n",
      "\u001b[1;31mKeyError\u001b[0m                                  Traceback (most recent call last)",
      "Cell \u001b[1;32mIn[60], line 8\u001b[0m\n\u001b[0;32m      6\u001b[0m \u001b[38;5;66;03m# 2. Get value counts for a specific column (replace 'column_name' with the actual column)\u001b[39;00m\n\u001b[0;32m      7\u001b[0m column_name \u001b[38;5;241m=\u001b[39m \u001b[38;5;124m'\u001b[39m\u001b[38;5;124mcolumn_name\u001b[39m\u001b[38;5;124m'\u001b[39m\n\u001b[1;32m----> 8\u001b[0m value_counts \u001b[38;5;241m=\u001b[39m \u001b[43mdf\u001b[49m\u001b[43m[\u001b[49m\u001b[43mcolumn_name\u001b[49m\u001b[43m]\u001b[49m\u001b[38;5;241m.\u001b[39mvalue_counts()\n\u001b[0;32m      9\u001b[0m \u001b[38;5;28mprint\u001b[39m(\u001b[38;5;124mf\u001b[39m\u001b[38;5;124m\"\u001b[39m\u001b[38;5;130;01m\\n\u001b[39;00m\u001b[38;5;124mValue counts for \u001b[39m\u001b[38;5;124m'\u001b[39m\u001b[38;5;132;01m{\u001b[39;00mcolumn_name\u001b[38;5;132;01m}\u001b[39;00m\u001b[38;5;124m'\u001b[39m\u001b[38;5;124m:\u001b[39m\u001b[38;5;124m\"\u001b[39m)\n\u001b[0;32m     10\u001b[0m \u001b[38;5;28mprint\u001b[39m(value_counts)\n",
      "File \u001b[1;32m~\\AppData\\Local\\Packages\\PythonSoftwareFoundation.Python.3.10_qbz5n2kfra8p0\\LocalCache\\local-packages\\Python310\\site-packages\\pandas\\core\\frame.py:3761\u001b[0m, in \u001b[0;36mDataFrame.__getitem__\u001b[1;34m(self, key)\u001b[0m\n\u001b[0;32m   3759\u001b[0m \u001b[38;5;28;01mif\u001b[39;00m \u001b[38;5;28mself\u001b[39m\u001b[38;5;241m.\u001b[39mcolumns\u001b[38;5;241m.\u001b[39mnlevels \u001b[38;5;241m>\u001b[39m \u001b[38;5;241m1\u001b[39m:\n\u001b[0;32m   3760\u001b[0m     \u001b[38;5;28;01mreturn\u001b[39;00m \u001b[38;5;28mself\u001b[39m\u001b[38;5;241m.\u001b[39m_getitem_multilevel(key)\n\u001b[1;32m-> 3761\u001b[0m indexer \u001b[38;5;241m=\u001b[39m \u001b[38;5;28;43mself\u001b[39;49m\u001b[38;5;241;43m.\u001b[39;49m\u001b[43mcolumns\u001b[49m\u001b[38;5;241;43m.\u001b[39;49m\u001b[43mget_loc\u001b[49m\u001b[43m(\u001b[49m\u001b[43mkey\u001b[49m\u001b[43m)\u001b[49m\n\u001b[0;32m   3762\u001b[0m \u001b[38;5;28;01mif\u001b[39;00m is_integer(indexer):\n\u001b[0;32m   3763\u001b[0m     indexer \u001b[38;5;241m=\u001b[39m [indexer]\n",
      "File \u001b[1;32m~\\AppData\\Local\\Packages\\PythonSoftwareFoundation.Python.3.10_qbz5n2kfra8p0\\LocalCache\\local-packages\\Python310\\site-packages\\pandas\\core\\indexes\\base.py:3654\u001b[0m, in \u001b[0;36mIndex.get_loc\u001b[1;34m(self, key)\u001b[0m\n\u001b[0;32m   3652\u001b[0m     \u001b[38;5;28;01mreturn\u001b[39;00m \u001b[38;5;28mself\u001b[39m\u001b[38;5;241m.\u001b[39m_engine\u001b[38;5;241m.\u001b[39mget_loc(casted_key)\n\u001b[0;32m   3653\u001b[0m \u001b[38;5;28;01mexcept\u001b[39;00m \u001b[38;5;167;01mKeyError\u001b[39;00m \u001b[38;5;28;01mas\u001b[39;00m err:\n\u001b[1;32m-> 3654\u001b[0m     \u001b[38;5;28;01mraise\u001b[39;00m \u001b[38;5;167;01mKeyError\u001b[39;00m(key) \u001b[38;5;28;01mfrom\u001b[39;00m \u001b[38;5;21;01merr\u001b[39;00m\n\u001b[0;32m   3655\u001b[0m \u001b[38;5;28;01mexcept\u001b[39;00m \u001b[38;5;167;01mTypeError\u001b[39;00m:\n\u001b[0;32m   3656\u001b[0m     \u001b[38;5;66;03m# If we have a listlike key, _check_indexing_error will raise\u001b[39;00m\n\u001b[0;32m   3657\u001b[0m     \u001b[38;5;66;03m#  InvalidIndexError. Otherwise we fall through and re-raise\u001b[39;00m\n\u001b[0;32m   3658\u001b[0m     \u001b[38;5;66;03m#  the TypeError.\u001b[39;00m\n\u001b[0;32m   3659\u001b[0m     \u001b[38;5;28mself\u001b[39m\u001b[38;5;241m.\u001b[39m_check_indexing_error(key)\n",
      "\u001b[1;31mKeyError\u001b[0m: 'column_name'"
     ]
    }
   ],
   "source": [
    "# 1. Get summary statistics for numerical columns\n",
    "summary_stats = df.describe()\n",
    "print(\"Summary statistics:\")\n",
    "print(summary_stats)\n",
    "\n",
    "# 2. Get value counts for a specific column (replace 'column_name' with the actual column)\n",
    "column_name = 'column_name'\n",
    "value_counts = df[column_name].value_counts()\n",
    "print(f\"\\nValue counts for '{column_name}':\")\n",
    "print(value_counts)"
   ]
  },
  {
   "cell_type": "markdown",
   "id": "beb28c2f",
   "metadata": {},
   "source": [
    "<p>To fix this issue, we look at the interpreter's throwing of the KeyError and realize that we need a more specific solution for each individual colunmn within this code. I will be referencing the Pandas documentation and python documentation to debug this code rather than trying to describe my dataset to ChatGPT.</p>"
   ]
  },
  {
   "cell_type": "code",
   "execution_count": 61,
   "id": "c91159d3",
   "metadata": {},
   "outputs": [
    {
     "name": "stdout",
     "output_type": "stream",
     "text": [
      "Summary statistics:\n",
      "              Year        Total    Gas Fuel  Liquid Fuel   Solid Fuel   \n",
      "count   260.000000   260.000000   260.00000   260.000000   260.000000  \\\n",
      "mean   1880.500000  1402.788462   185.20000   495.819231   674.569231   \n",
      "std      75.199734  2253.098527   396.58556   934.308074   868.368580   \n",
      "min    1751.000000     3.000000     0.00000     0.000000     3.000000   \n",
      "25%    1815.750000    12.750000     0.00000     0.000000    12.750000   \n",
      "50%    1880.500000   239.500000     0.00000     3.000000   236.000000   \n",
      "75%    1945.250000  1385.000000    59.50000   279.250000  1023.500000   \n",
      "max    2010.000000  9167.000000  1702.00000  3122.000000  3842.000000   \n",
      "\n",
      "           Cement  Gas Flaring  Per Capita  \n",
      "count  260.000000   260.000000   61.000000  \n",
      "mean    34.161538    13.065385    1.054754  \n",
      "std     78.899604    26.311315    0.178630  \n",
      "min      0.000000     0.000000    0.640000  \n",
      "25%      0.000000     0.000000    0.940000  \n",
      "50%      0.000000     0.000000    1.120000  \n",
      "75%     12.000000     0.000000    1.170000  \n",
      "max    450.000000   110.000000    1.330000  \n",
      "\n",
      "Value counts for 'Year':\n",
      "Year\n",
      "1751    1\n",
      "1914    1\n",
      "1916    1\n",
      "1917    1\n",
      "1918    1\n",
      "       ..\n",
      "1842    1\n",
      "1843    1\n",
      "1844    1\n",
      "1845    1\n",
      "2010    1\n",
      "Name: count, Length: 260, dtype: int64\n",
      "\n",
      "Value counts for 'Total':\n",
      "Total\n",
      "3       20\n",
      "5       10\n",
      "4       10\n",
      "6        6\n",
      "10       6\n",
      "        ..\n",
      "419      1\n",
      "440      1\n",
      "465      1\n",
      "507      1\n",
      "9167     1\n",
      "Name: count, Length: 190, dtype: int64\n",
      "\n",
      "Value counts for 'Gas Fuel':\n",
      "Gas Fuel\n",
      "0       134\n",
      "2         9\n",
      "3         5\n",
      "5         5\n",
      "4         4\n",
      "       ... \n",
      "138       1\n",
      "131       1\n",
      "124       1\n",
      "115       1\n",
      "1702      1\n",
      "Name: count, Length: 94, dtype: int64\n",
      "\n",
      "Value counts for 'Liquid Fuel':\n",
      "Liquid Fuel\n",
      "0       119\n",
      "1         7\n",
      "4         4\n",
      "5         3\n",
      "9         3\n",
      "       ... \n",
      "143       1\n",
      "136       1\n",
      "119       1\n",
      "116       1\n",
      "3114      1\n",
      "Name: count, Length: 121, dtype: int64\n",
      "\n",
      "Value counts for 'Solid Fuel':\n",
      "Solid Fuel\n",
      "3       20\n",
      "5       10\n",
      "4       10\n",
      "10       6\n",
      "6        6\n",
      "        ..\n",
      "405      1\n",
      "425      1\n",
      "449      1\n",
      "491      1\n",
      "3842     1\n",
      "Name: count, Length: 188, dtype: int64\n",
      "\n",
      "Value counts for 'Cement':\n",
      "Cement\n",
      "0      177\n",
      "10       5\n",
      "7        4\n",
      "11       4\n",
      "12       3\n",
      "      ... \n",
      "74       1\n",
      "78       1\n",
      "84       1\n",
      "89       1\n",
      "450      1\n",
      "Name: count, Length: 68, dtype: int64\n",
      "\n",
      "Value counts for 'Gas Flaring':\n",
      "Gas Flaring\n",
      "0      199\n",
      "35       4\n",
      "44       3\n",
      "36       3\n",
      "64       2\n",
      "46       2\n",
      "38       2\n",
      "66       2\n",
      "60       2\n",
      "51       2\n",
      "27       2\n",
      "48       2\n",
      "45       1\n",
      "50       1\n",
      "86       1\n",
      "71       1\n",
      "58       1\n",
      "49       1\n",
      "68       1\n",
      "40       1\n",
      "41       1\n",
      "61       1\n",
      "53       1\n",
      "37       1\n",
      "106      1\n",
      "33       1\n",
      "98       1\n",
      "107      1\n",
      "104      1\n",
      "55       1\n",
      "24       1\n",
      "26       1\n",
      "31       1\n",
      "32       1\n",
      "39       1\n",
      "42       1\n",
      "47       1\n",
      "73       1\n",
      "108      1\n",
      "80       1\n",
      "87       1\n",
      "88       1\n",
      "94       1\n",
      "110      1\n",
      "23       1\n",
      "92       1\n",
      "59       1\n",
      "Name: count, dtype: int64\n",
      "\n",
      "Value counts for 'Per Capita':\n",
      "Per Capita\n",
      "1.12    6\n",
      "1.11    5\n",
      "1.13    4\n",
      "0.69    3\n",
      "1.14    3\n",
      "1.16    3\n",
      "1.17    3\n",
      "1.18    2\n",
      "1.19    2\n",
      "1.10    2\n",
      "1.28    2\n",
      "1.15    1\n",
      "1.20    1\n",
      "1.23    1\n",
      "1.21    1\n",
      "1.24    1\n",
      "1.27    1\n",
      "1.30    1\n",
      "1.09    1\n",
      "0.64    1\n",
      "1.05    1\n",
      "0.85    1\n",
      "0.68    1\n",
      "0.74    1\n",
      "0.77    1\n",
      "0.79    1\n",
      "0.80    1\n",
      "0.83    1\n",
      "0.84    1\n",
      "1.01    1\n",
      "0.86    1\n",
      "0.88    1\n",
      "0.92    1\n",
      "0.94    1\n",
      "0.97    1\n",
      "0.98    1\n",
      "1.33    1\n",
      "Name: count, dtype: int64\n"
     ]
    }
   ],
   "source": [
    "# 1. Get summary statistics for numerical columns\n",
    "summary_stats = df.describe()\n",
    "print(\"Summary statistics:\")\n",
    "print(summary_stats)\n",
    "\n",
    "# 2. Get value counts for a specific column (replace 'column_name' with the actual column) (INCORRECT)\n",
    "\n",
    "## The code below was given directly by ChatGPT and caused bugs before.\n",
    "# column_name = 'column_name'\n",
    "\n",
    "## https://www.geeksforgeeks.org/ was also used in trying to remedy this bug.\n",
    "# 2. Get the values of each element in the column names by using df.columns\n",
    "\n",
    "column_names = list(df.columns)\n",
    "\n",
    "# 3. Use a for-each loop to provide summaries for each individual column present in the dataframe\n",
    "\n",
    "for column_name in column_names:\n",
    "    value_counts = df[column_name].value_counts()\n",
    "    print(f\"\\nValue counts for '{column_name}':\")\n",
    "    print(value_counts)"
   ]
  },
  {
   "cell_type": "markdown",
   "id": "c058b74e",
   "metadata": {},
   "source": [
    "<h3>Step 4: Describing descrepancies between the summaries of each column and that of the dataframe</h3>\n",
    "<p>When analyzing this dataframe, it is clear that for certain year, somee values may not have been recorded. However, missing attributes in certain columns will not relfect or impact the size of the dataframe as a whole, as the size of the 2D array is dependent on the maximum number of rows for any column rather than the maximum number of rows that they share. Thus, this descrepancy is easily explained and is to be expected.</p><br>"
   ]
  },
  {
   "cell_type": "markdown",
   "id": "bab30cd9",
   "metadata": {},
   "source": [
    "<h3>Step 5: Using ChatGPT to describe the differences between attributes and methods</h3>\n",
    "<p>Using the paradigm of Object Oriented Programming (which Python heavily implements), we can easily explain the differences between the methods which introduce parentheses at the end, and the attributes (or instance/static variables) that are called upon without the use of parentheses.</p>\n",
    "<p></p>\n",
    "<p><b>For example, take a look at the code below:</b></p>"
   ]
  },
  {
   "cell_type": "code",
   "execution_count": 62,
   "id": "79924846",
   "metadata": {},
   "outputs": [],
   "source": [
    "class dataframe:\n",
    "    \n",
    "    def __init__(self, rows: int, columns: int):\n",
    "        self.rows = rows\n",
    "        self.columns = columns\n",
    "        self.shape = [rows, columns]\n",
    "        \n",
    "    def describe(self):\n",
    "        return f\"The dimensions of the dataframe consists of {self.rows} rows and {self.columns} columns.\"\n",
    "    "
   ]
  },
  {
   "cell_type": "markdown",
   "id": "a44ca280",
   "metadata": {},
   "source": [
    "<p>In the simple sample class written above, we can see that self.columns refers to a variable that belongs to this instance of the dataframe. If the user creates a new dataframe \"df\" and gives it the dimensions of 50 rows and 50 columns, the value of df.shape would also be equal to [50, 50].</p>\n",
    "<p></p>\n",
    "<p>If the user was to then make another dataframe, this time called \"df_2\", and assigns it the dimensions of 60 rows and 70 columns, the value of df_2.shape would then be equal to [60, 70].</p>\n",
    "<p></p>\n",
    "<p><b>Notice how the creation of df_2 does not modify the value of the original df.shape- and thus is the unique difference between an attribute and a regular variable.</b></p>"
   ]
  },
  {
   "cell_type": "markdown",
   "id": "fb809393",
   "metadata": {},
   "source": [
    "<p>However, a method is a way for any user to access or modify the values within an object or class. Thus, we can also refer to these methods as a form of \"interface\".</p>\n",
    "<p></p>\n",
    "<p><b>For example, let's examine the code below:</b></p>"
   ]
  },
  {
   "cell_type": "code",
   "execution_count": 63,
   "id": "ac6eb840",
   "metadata": {},
   "outputs": [
    {
     "name": "stdout",
     "output_type": "stream",
     "text": [
      "The dimensions of the dataframe consists of 80 rows and 100 columns.\n"
     ]
    }
   ],
   "source": [
    "if __name__ == \"__main__\":\n",
    "    df = dataframe(rows=80, columns=100)\n",
    "    print(df.describe())"
   ]
  },
  {
   "cell_type": "markdown",
   "id": "80cc5360",
   "metadata": {},
   "source": [
    "<p>The use of df.describe() calls upon the dataframe.describe() to help us access information about the object (in this case, our dataframe) and thus fulfills the requirements for a method. We call this type of method an \"accessor method\".</p>"
   ]
  },
  {
   "cell_type": "markdown",
   "id": "05d352cd",
   "metadata": {},
   "source": [
    "## Post-lecture Homework"
   ]
  },
  {
   "cell_type": "markdown",
   "id": "8edb9d4b",
   "metadata": {},
   "source": [
    "### Step 6: Giving definitions of the output values from `df.describe()`\n",
    "<p><i>Please note: instead of using ChatGPT, this step was completed using source materials from the Pandas Documentation, which can be found <a href=\"https://pandas.pydata.org/docs/reference/api/pandas.DataFrame.describe.html#pandas.DataFrame.describe\">here.</a></i></p>\n",
    "\n",
    "<p><b>df.count</b><br>\n",
    "    When using df.describe(), the value \"count\" refers to the number of non-null (or, non-None type) values found within a given dataframe.</p>\n",
    "<p><b>df.mean</b><br>\n",
    "    The variable df.mean which gets outputting as a result of the method df.describe() gives the arithmetic mean of the values in the dataframe.</p>\n",
    "<p><b>df.std</b><br>\n",
    "    The df.describe() std value outputs the standard deviation of the dataset.</p>\n",
    "<p><b>df.min</b><br>\n",
    "    The min value describes the minimum value for each value in the dataframe.</p>\n",
    "<p><b>df.percentiles (25%, 50%, 75%)</b><br>\n",
    "    The values of 25%, 50%, and 75% refer to the value of the percentiles. For instance, 25% refers to the value that would correspond with the maximum value for the bottom 25% of values in the dataset. 75% thus also refers to the minimum value for the top 25% of values within the dataset. 50% refers to the median.</p>\n",
    "<p><b>df.max</b><br>\n",
    "    The max value refers to the maximum value for all values within the dataframe.</p>\n"
   ]
  },
  {
   "cell_type": "markdown",
   "id": "40c059a8",
   "metadata": {},
   "source": [
    "### Step 7: Describing the differences between `df.dropna()` and `del df['col']`\n",
    "<p><b>&emsp;1. Provide an example of a \"use case\" in which using df.dropna() might be peferred over using del df['col']</b><br>\n",
    "    &emsp;&emsp;In this case, when a whole row consists of missing values, it would be wiser to use df.dropna() to remove the least amount of useful information.</p>\n",
    "<p><b>&emsp;2. Provide an example of \"the opposite use case\" in which using del df['col'] might be preferred over using df.dropna()</b><br>\n",
    "    &emsp;&emsp;If there consists of a column with mostly null values with rows with few null values, then it makes more sense to remove the entire column using del <br>&emsp;&emsp;df['col'] instead.</p>\n",
    "<p><b>&emsp;3. Discuss why applying del df['col'] before df.dropna() when both are used together could be important</b><br>\n",
    "    &emsp;&emsp;Suppose that our dataframe has a size of 25 rows and 5 columns. If one column has only 5 non-null values, then the use of df.dropna() first would <br>&emsp;&emsp;remove 20 rows of useful information. However, when del df['col'] is applied first, minimal data is lost as the use of df.dropna() would remove zero rows. </p>\n",
    "<p><b>&emsp;4. Remove all missing data from one of the datasets you're considering using some combination of del df['col'] and/or df.dropna() and give <br>&emsp;&emsp;a justification for your approach, including a \"before and after\" report of the results of your approach for your dataset.</b><br>\n",
    "    &emsp;&emsp;<i>See code below.</i></p>"
   ]
  },
  {
   "cell_type": "code",
   "execution_count": 64,
   "id": "5aa94e87",
   "metadata": {},
   "outputs": [
    {
     "name": "stdout",
     "output_type": "stream",
     "text": [
      "   Year  Total  Gas Fuel  Liquid Fuel  Solid Fuel  Cement  Gas Flaring   \n",
      "0  1751      3         0            0           3       0            0  \\\n",
      "1  1752      3         0            0           3       0            0   \n",
      "2  1753      3         0            0           3       0            0   \n",
      "3  1754      3         0            0           3       0            0   \n",
      "4  1755      3         0            0           3       0            0   \n",
      "\n",
      "   Per Capita  \n",
      "0         NaN  \n",
      "1         NaN  \n",
      "2         NaN  \n",
      "3         NaN  \n",
      "4         NaN  \n"
     ]
    }
   ],
   "source": [
    "url = 'https://raw.githubusercontent.com/datasets/co2-fossil-global/master/global.csv'\n",
    "\n",
    "df = pd.read_csv(url)\n",
    "print(df.head())"
   ]
  },
  {
   "cell_type": "code",
   "execution_count": 65,
   "id": "713ef6db",
   "metadata": {},
   "outputs": [
    {
     "name": "stdout",
     "output_type": "stream",
     "text": [
      "              Year        Total    Gas Fuel  Liquid Fuel   Solid Fuel   \n",
      "count   260.000000   260.000000   260.00000   260.000000   260.000000  \\\n",
      "mean   1880.500000  1402.788462   185.20000   495.819231   674.569231   \n",
      "std      75.199734  2253.098527   396.58556   934.308074   868.368580   \n",
      "min    1751.000000     3.000000     0.00000     0.000000     3.000000   \n",
      "25%    1815.750000    12.750000     0.00000     0.000000    12.750000   \n",
      "50%    1880.500000   239.500000     0.00000     3.000000   236.000000   \n",
      "75%    1945.250000  1385.000000    59.50000   279.250000  1023.500000   \n",
      "max    2010.000000  9167.000000  1702.00000  3122.000000  3842.000000   \n",
      "\n",
      "           Cement  Gas Flaring  Per Capita  \n",
      "count  260.000000   260.000000   61.000000  \n",
      "mean    34.161538    13.065385    1.054754  \n",
      "std     78.899604    26.311315    0.178630  \n",
      "min      0.000000     0.000000    0.640000  \n",
      "25%      0.000000     0.000000    0.940000  \n",
      "50%      0.000000     0.000000    1.120000  \n",
      "75%     12.000000     0.000000    1.170000  \n",
      "max    450.000000   110.000000    1.330000  \n"
     ]
    }
   ],
   "source": [
    "print(df.describe(include='all'))"
   ]
  },
  {
   "cell_type": "code",
   "execution_count": 66,
   "id": "f1a7a8bc",
   "metadata": {},
   "outputs": [
    {
     "name": "stdout",
     "output_type": "stream",
     "text": [
      "     Year  Total  Gas Fuel  Liquid Fuel  Solid Fuel  Cement  Gas Flaring\n",
      "199  1950   1630      97.0        423.0        1070    18.0         23.0\n",
      "200  1951   1767     115.0        479.0        1129    20.0         24.0\n",
      "201  1952   1795     124.0        504.0        1119    22.0         26.0\n",
      "202  1953   1841     131.0        533.0        1125    24.0         27.0\n",
      "203  1954   1865     138.0        557.0        1116    27.0         27.0\n"
     ]
    },
    {
     "name": "stderr",
     "output_type": "stream",
     "text": [
      "C:\\Users\\steve\\AppData\\Local\\Temp\\ipykernel_17296\\2656622103.py:8: SettingWithCopyWarning: \n",
      "A value is trying to be set on a copy of a slice from a DataFrame\n",
      "\n",
      "See the caveats in the documentation: https://pandas.pydata.org/pandas-docs/stable/user_guide/indexing.html#returning-a-view-versus-a-copy\n",
      "  df_dropped[column][i] = None\n",
      "C:\\Users\\steve\\AppData\\Local\\Temp\\ipykernel_17296\\2656622103.py:8: SettingWithCopyWarning: \n",
      "A value is trying to be set on a copy of a slice from a DataFrame\n",
      "\n",
      "See the caveats in the documentation: https://pandas.pydata.org/pandas-docs/stable/user_guide/indexing.html#returning-a-view-versus-a-copy\n",
      "  df_dropped[column][i] = None\n",
      "C:\\Users\\steve\\AppData\\Local\\Temp\\ipykernel_17296\\2656622103.py:8: SettingWithCopyWarning: \n",
      "A value is trying to be set on a copy of a slice from a DataFrame\n",
      "\n",
      "See the caveats in the documentation: https://pandas.pydata.org/pandas-docs/stable/user_guide/indexing.html#returning-a-view-versus-a-copy\n",
      "  df_dropped[column][i] = None\n"
     ]
    }
   ],
   "source": [
    "df_dropped = df\n",
    "del df_dropped['Per Capita']\n",
    "\n",
    "for column in df_dropped:\n",
    "    for i in range(len(df_dropped['Year'])):\n",
    "        value = df_dropped[column][i]\n",
    "        if value == 0:\n",
    "            df_dropped[column][i] = None\n",
    "\n",
    "df_dropped.dropna(inplace=True)\n",
    "print(df_dropped.head())"
   ]
  },
  {
   "cell_type": "code",
   "execution_count": 67,
   "id": "f18c9b9b",
   "metadata": {},
   "outputs": [
    {
     "name": "stdout",
     "output_type": "stream",
     "text": [
      "              Year        Total     Gas Fuel  Liquid Fuel   Solid Fuel   \n",
      "count    61.000000    61.000000    61.000000    61.000000    61.000000  \\\n",
      "mean   1980.000000  4984.114754   769.327869  2005.229508  2012.081967   \n",
      "std      17.752934  2070.838720   474.350599   850.674054   696.221907   \n",
      "min    1950.000000  1630.000000    97.000000   423.000000  1070.000000   \n",
      "25%    1965.000000  3130.000000   337.000000  1219.000000  1448.000000   \n",
      "50%    1980.000000  5113.000000   740.000000  2289.000000  1921.000000   \n",
      "75%    1995.000000  6398.000000  1157.000000  2605.000000  2414.000000   \n",
      "max    2010.000000  9167.000000  1702.000000  3122.000000  3842.000000   \n",
      "\n",
      "           Cement  Gas Flaring  \n",
      "count   61.000000    61.000000  \n",
      "mean   141.901639    55.688525  \n",
      "std    106.848289    23.983009  \n",
      "min     18.000000    23.000000  \n",
      "25%     59.000000    37.000000  \n",
      "50%    120.000000    48.000000  \n",
      "75%    197.000000    66.000000  \n",
      "max    450.000000   110.000000  \n"
     ]
    }
   ],
   "source": [
    "print(df_dropped.describe())"
   ]
  },
  {
   "cell_type": "markdown",
   "id": "bc7e9a41",
   "metadata": {},
   "source": [
    "<p>Due to the lack of null values in the dataset, I just set all zero values to null values to simulate the existence of null values for the completion of this assignment.<br><br>Using df.describe(), the result is the same but the dataset has drastically changed. In the latter dataset, the indices start from 199 instead of zero due to the values omitted from the first dataset. This reduces the majority of the 18th and 19th centuries, which had empty values for the vast majority of energy types.</p>"
   ]
  },
  {
   "cell_type": "markdown",
   "id": "fe095551",
   "metadata": {},
   "source": [
    "### Step 8: Brief explanations of the questions below\n",
    "\n",
    "<p><i>For this question, for any mentions to a search engine, the DuckDuckGo search engine was used to test the scenarios provided below.</i></p>\n",
    "\n",
    "<p><b>1. Use your ChatBot session to understand what df.groupby(\"col1\")[\"col2\"].describe() does and then demonstrate and explain this using a different example from the \"titanic\" data set other than what the ChatBot automatically provide for you</b><br>\n",
    "    The df.groupby() method re-arranges the dataframe based on a certain element in the dataset. The \"col1\" call would organize the dataframe based on the elements in the column labeled \"col1\", then it would consider the values for the elements in \"col2\". Below is some code to demonstrate the idea.</p>"
   ]
  },
  {
   "cell_type": "code",
   "execution_count": 68,
   "id": "1f0a67a0",
   "metadata": {},
   "outputs": [
    {
     "data": {
      "text/html": [
       "<div>\n",
       "<style scoped>\n",
       "    .dataframe tbody tr th:only-of-type {\n",
       "        vertical-align: middle;\n",
       "    }\n",
       "\n",
       "    .dataframe tbody tr th {\n",
       "        vertical-align: top;\n",
       "    }\n",
       "\n",
       "    .dataframe thead th {\n",
       "        text-align: right;\n",
       "    }\n",
       "</style>\n",
       "<table border=\"1\" class=\"dataframe\">\n",
       "  <thead>\n",
       "    <tr style=\"text-align: right;\">\n",
       "      <th></th>\n",
       "      <th>survived</th>\n",
       "      <th>pclass</th>\n",
       "      <th>sex</th>\n",
       "      <th>age</th>\n",
       "      <th>sibsp</th>\n",
       "      <th>parch</th>\n",
       "      <th>fare</th>\n",
       "      <th>embarked</th>\n",
       "      <th>class</th>\n",
       "      <th>who</th>\n",
       "      <th>adult_male</th>\n",
       "      <th>deck</th>\n",
       "      <th>embark_town</th>\n",
       "      <th>alive</th>\n",
       "      <th>alone</th>\n",
       "    </tr>\n",
       "  </thead>\n",
       "  <tbody>\n",
       "    <tr>\n",
       "      <th>0</th>\n",
       "      <td>0</td>\n",
       "      <td>3</td>\n",
       "      <td>male</td>\n",
       "      <td>22.0</td>\n",
       "      <td>1</td>\n",
       "      <td>0</td>\n",
       "      <td>7.2500</td>\n",
       "      <td>S</td>\n",
       "      <td>Third</td>\n",
       "      <td>man</td>\n",
       "      <td>True</td>\n",
       "      <td>NaN</td>\n",
       "      <td>Southampton</td>\n",
       "      <td>no</td>\n",
       "      <td>False</td>\n",
       "    </tr>\n",
       "    <tr>\n",
       "      <th>1</th>\n",
       "      <td>1</td>\n",
       "      <td>1</td>\n",
       "      <td>female</td>\n",
       "      <td>38.0</td>\n",
       "      <td>1</td>\n",
       "      <td>0</td>\n",
       "      <td>71.2833</td>\n",
       "      <td>C</td>\n",
       "      <td>First</td>\n",
       "      <td>woman</td>\n",
       "      <td>False</td>\n",
       "      <td>C</td>\n",
       "      <td>Cherbourg</td>\n",
       "      <td>yes</td>\n",
       "      <td>False</td>\n",
       "    </tr>\n",
       "    <tr>\n",
       "      <th>2</th>\n",
       "      <td>1</td>\n",
       "      <td>3</td>\n",
       "      <td>female</td>\n",
       "      <td>26.0</td>\n",
       "      <td>0</td>\n",
       "      <td>0</td>\n",
       "      <td>7.9250</td>\n",
       "      <td>S</td>\n",
       "      <td>Third</td>\n",
       "      <td>woman</td>\n",
       "      <td>False</td>\n",
       "      <td>NaN</td>\n",
       "      <td>Southampton</td>\n",
       "      <td>yes</td>\n",
       "      <td>True</td>\n",
       "    </tr>\n",
       "    <tr>\n",
       "      <th>3</th>\n",
       "      <td>1</td>\n",
       "      <td>1</td>\n",
       "      <td>female</td>\n",
       "      <td>35.0</td>\n",
       "      <td>1</td>\n",
       "      <td>0</td>\n",
       "      <td>53.1000</td>\n",
       "      <td>S</td>\n",
       "      <td>First</td>\n",
       "      <td>woman</td>\n",
       "      <td>False</td>\n",
       "      <td>C</td>\n",
       "      <td>Southampton</td>\n",
       "      <td>yes</td>\n",
       "      <td>False</td>\n",
       "    </tr>\n",
       "    <tr>\n",
       "      <th>4</th>\n",
       "      <td>0</td>\n",
       "      <td>3</td>\n",
       "      <td>male</td>\n",
       "      <td>35.0</td>\n",
       "      <td>0</td>\n",
       "      <td>0</td>\n",
       "      <td>8.0500</td>\n",
       "      <td>S</td>\n",
       "      <td>Third</td>\n",
       "      <td>man</td>\n",
       "      <td>True</td>\n",
       "      <td>NaN</td>\n",
       "      <td>Southampton</td>\n",
       "      <td>no</td>\n",
       "      <td>True</td>\n",
       "    </tr>\n",
       "  </tbody>\n",
       "</table>\n",
       "</div>"
      ],
      "text/plain": [
       "   survived  pclass     sex   age  sibsp  parch     fare embarked  class   \n",
       "0         0       3    male  22.0      1      0   7.2500        S  Third  \\\n",
       "1         1       1  female  38.0      1      0  71.2833        C  First   \n",
       "2         1       3  female  26.0      0      0   7.9250        S  Third   \n",
       "3         1       1  female  35.0      1      0  53.1000        S  First   \n",
       "4         0       3    male  35.0      0      0   8.0500        S  Third   \n",
       "\n",
       "     who  adult_male deck  embark_town alive  alone  \n",
       "0    man        True  NaN  Southampton    no  False  \n",
       "1  woman       False    C    Cherbourg   yes  False  \n",
       "2  woman       False  NaN  Southampton   yes   True  \n",
       "3  woman       False    C  Southampton   yes  False  \n",
       "4    man        True  NaN  Southampton    no   True  "
      ]
     },
     "execution_count": 68,
     "metadata": {},
     "output_type": "execute_result"
    }
   ],
   "source": [
    "url = 'https://raw.githubusercontent.com/mwaskom/seaborn-data/master/titanic.csv'\n",
    "\n",
    "df = pd.read_csv(url)\n",
    "df.head()"
   ]
  },
  {
   "cell_type": "code",
   "execution_count": 69,
   "id": "5bda65f7",
   "metadata": {},
   "outputs": [
    {
     "data": {
      "text/html": [
       "<div>\n",
       "<style scoped>\n",
       "    .dataframe tbody tr th:only-of-type {\n",
       "        vertical-align: middle;\n",
       "    }\n",
       "\n",
       "    .dataframe tbody tr th {\n",
       "        vertical-align: top;\n",
       "    }\n",
       "\n",
       "    .dataframe thead th {\n",
       "        text-align: right;\n",
       "    }\n",
       "</style>\n",
       "<table border=\"1\" class=\"dataframe\">\n",
       "  <thead>\n",
       "    <tr style=\"text-align: right;\">\n",
       "      <th></th>\n",
       "      <th>count</th>\n",
       "      <th>mean</th>\n",
       "      <th>std</th>\n",
       "      <th>min</th>\n",
       "      <th>25%</th>\n",
       "      <th>50%</th>\n",
       "      <th>75%</th>\n",
       "      <th>max</th>\n",
       "    </tr>\n",
       "    <tr>\n",
       "      <th>sex</th>\n",
       "      <th></th>\n",
       "      <th></th>\n",
       "      <th></th>\n",
       "      <th></th>\n",
       "      <th></th>\n",
       "      <th></th>\n",
       "      <th></th>\n",
       "      <th></th>\n",
       "    </tr>\n",
       "  </thead>\n",
       "  <tbody>\n",
       "    <tr>\n",
       "      <th>female</th>\n",
       "      <td>314.0</td>\n",
       "      <td>0.742038</td>\n",
       "      <td>0.438211</td>\n",
       "      <td>0.0</td>\n",
       "      <td>0.0</td>\n",
       "      <td>1.0</td>\n",
       "      <td>1.0</td>\n",
       "      <td>1.0</td>\n",
       "    </tr>\n",
       "    <tr>\n",
       "      <th>male</th>\n",
       "      <td>577.0</td>\n",
       "      <td>0.188908</td>\n",
       "      <td>0.391775</td>\n",
       "      <td>0.0</td>\n",
       "      <td>0.0</td>\n",
       "      <td>0.0</td>\n",
       "      <td>0.0</td>\n",
       "      <td>1.0</td>\n",
       "    </tr>\n",
       "  </tbody>\n",
       "</table>\n",
       "</div>"
      ],
      "text/plain": [
       "        count      mean       std  min  25%  50%  75%  max\n",
       "sex                                                       \n",
       "female  314.0  0.742038  0.438211  0.0  0.0  1.0  1.0  1.0\n",
       "male    577.0  0.188908  0.391775  0.0  0.0  0.0  0.0  1.0"
      ]
     },
     "execution_count": 69,
     "metadata": {},
     "output_type": "execute_result"
    }
   ],
   "source": [
    "df.groupby('sex')['survived'].describe()"
   ]
  },
  {
   "cell_type": "markdown",
   "id": "c27c649a",
   "metadata": {},
   "source": [
    "<p>For the code above, the use of groupby('sex')['survived'] allows us to analyze the survival rates of males and females. First, calling 'sex' as a parameter of groupby allows us to separate the dataset into two distinct groups- males and females. Then, by specifically analyzing the second element of \"survived\" (which acts as a pseudo-boolean through the discreet values of 0 and 1), this allows us to see the survival rates using the mean. For females, the mean is 0.742, which represents a survival rate of 74.2% for all females. For males, the mean is 0.189, which represents a surival rate of 18.9%.</p>"
   ]
  },
  {
   "cell_type": "markdown",
   "id": "025c2628",
   "metadata": {},
   "source": [
    "<p><b>2. Assuming you've not yet removed missing values in the manner of question \"7\" above, df.describe() would have different values in the count value for different data columns depending on the missingness present in the original data. Why do these capture something fundamentally different from the values in the count that result from doing something like df.groupby(\"col1\")[\"col2\"].describe()?</b><br>\n",
    "The main difference is that df.describe() describes the number of non-missing values for each column throughout the dataset. However, when calling df.groupby() before calling describe(), the count refers to the number of non-missing values for each group that is created by calling groupby().</p>"
   ]
  },
  {
   "cell_type": "markdown",
   "id": "671fa598",
   "metadata": {},
   "source": [
    "<p><b>3. Intentionally introduce the following errors into your code and report your opinion as to whether it's easier to (a) work in a ChatBot session to fix the errors, or (b) use google to search for and fix errors: first share the errors you get in the ChatBot session and see if you can work with ChatBot to troubleshoot and fix the coding errors, and then see if you think a google search for the error provides the necessary toubleshooting help more quickly than ChatGPT</b></p>\n",
    "\n",
    "<p><b>A. Forget to include import pandas as pd in your code</b><br>\n",
    "For this first error, both the ChatGPT and the web search (which returned a StackOverflow forum result) gave a simple one-line solution that helped solve this simple error. However, without needing to wait for ChatGPT's response generation, the web search was considerably faster and simpler.</p>\n",
    "\n",
    "<p><b>B. Mistype \"titanic.csv\" as \"titanics.csv\"</b><br>\n",
    "For this second error, the online search suggests to check the scope and path of the file, and that if the file exists outside the scope of the current project then the absolute path is required. ChatGPT, on the other hand, gave multiple possibilities for the cause of this error- including the possibility of a typo and how to remedy the problem by replacing 'titanics.csv' with 'titanic.csv'. While outside the scope of this assignment, it would be remiss to not mention that many high-level IDEs (such as PyCharm and Visual Studio Code) both include spellcheck functionalities which can point out the potential error even before runtime.</p>\n",
    "\n",
    "<p><b>C. Try to use a dataframe before it's been assigned into the variable</b><br>\n",
    "Using both ChatGPT and a web search (which of course, then leads to a StackOverflow forum) yield similar results. ChatGPT gave a more thoughtful response, considering the possibility of case-sensitivity. However, the forum post was much more consise and addressed the variable assignment error head on and thus led to a more efficient workflow. Again, a powerful IDE will also catch this issue before runtime and makes this simple mistake easy to spot.</p>\n",
    "\n",
    "<p><b>D. Forget one of the parentheses somewhere the code</b><br>\n",
    "In this case, both ChatGPT and a web search(which led to an article instead of a forum post this time) gave a simple answer and explained this silly syntax error that would have also been caught by a powerful IDE. In this case, using ChatGPT became remarkably slower due to the time needed to generate answers as compared to loading a simple webpage.</p>\n",
    "\n",
    "<p><b>E. Mistype one of the names of the chained functions with the code</b>\n",
    "Interestingly enough, it seems that ChatGPT seems to consider aspects Occam's razor for its responses- ChatGPT prefers the simplist solutions and infers that the prompt author is new to programming. However, in forum posts from StackOverflow, it seems that the users seem to assume that the users of the site are already fairly proficient at the language, and thus will try recommending more complex possibilities- such as the existance of whitespace characters within the syntax of the code. However, most surprisingly, the most helpful tool was neither the web search or AI-assisted debugging- but rather, the error message from a professional and programmer-first oriented IDE. For example, my IDE of choice, when faced with this simple problem, produced the following error message:</p>\n",
    "\n",
    "#### `AttributeError: 'DataFrame' object has no attribute 'hea'. Did you mean: 'head'?`\n",
    "\n",
    "<p>The IDE will even give suggestions for the methods available, negating the need for ChatGPT or StackOverflow, and thus should be considered when determining which tool is most helpful for debugging.</p>\n",
    "\n",
    "<p><b>F. Use a column name that's not in your data for the groupby and column selection</b><br>\n",
    "Both ChatGPT and a web search gave similar results that describes either a typo or checking to see if the index existed in the dataset. In this case, both of these gave easy to follow steps that describe the simple error and can help solve the problem easily.</p>\n",
    "\n",
    "<p><b>G. Forget to put the column name as a string in quotes for the groupby and column selection, and see if the ChatBot and google are still as helpful as they were for the previous question</b><br>\n",
    "Due to the simple nameerror that was thrown, the web search attempts to solve the problem by treating it as any regular variable. However, ChatGPT, understanding the context due to the history of the chat, was able to deduce the problem and immediately suggested the use of single quotes to solve the problem. In this case, the use of AI was able to solve this problem much easier than the use of traditional web search debugging.</p>\n",
    "\n",
    "<p><i>Overall, sometimes the use of AI can be a better debugging tool than traditional web searches. However, the power of AI breaks down when using niche libraries as ChatGPT cannot understand the nuances of each specific external library of python. Not to mention, as ChatGPT does not have its own Python interpreter built in, it has no way of telling whether the code it's generating will actually run without any errors or whether the logic works. For this reason, I still prefer to use traditional web search debugging and consulting documentation when in doubt.</i></p>"
   ]
  },
  {
   "cell_type": "markdown",
   "id": "6cf3adb7",
   "metadata": {},
   "source": [
    "### Step 9: Have you reviewed the course wiki-textbook and interacted with a ChatBot (or, if that wasn't sufficient, real people in the course piazza discussion board or TA office hours) to help you understand all the material in the tutorial and lecture that you didn't quite follow when you first saw it?\n",
    "\n",
    "#### Yes. I have."
   ]
  }
 ],
 "metadata": {
  "kernelspec": {
   "display_name": "Python 3 (ipykernel)",
   "language": "python",
   "name": "python3"
  },
  "language_info": {
   "codemirror_mode": {
    "name": "ipython",
    "version": 3
   },
   "file_extension": ".py",
   "mimetype": "text/x-python",
   "name": "python",
   "nbconvert_exporter": "python",
   "pygments_lexer": "ipython3",
   "version": "3.10.11"
  }
 },
 "nbformat": 4,
 "nbformat_minor": 5
}
