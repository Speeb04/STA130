{
 "cells": [
  {
   "cell_type": "markdown",
   "id": "c73cf802",
   "metadata": {},
   "source": [
    "# Week One Homework"
   ]
  },
  {
   "cell_type": "markdown",
   "id": "1c49d46a",
   "metadata": {},
   "source": [
    "### While AI-assisted tools such as ChatGPT will be used in the completion of this assignment, the use of published documentation online will be used in the assistance of writing code.\n",
    "<p>The documentation that will be used is as follows:<br>\n",
    "    &emsp;\n",
    "        - <a href=\"https://docs.python.org/3/\">docs.python.org</a><br>\n",
    "    &emsp;\n",
    "        - <a href=\"https://pandas.pydata.org/docs/user_guide/index.html\">pandas.pydata.org</a>\n",
    "</p>\n",
    "<p>The ChatGPT chat log:<br>\n",
    "   &emsp;- <a href=\"https://chatgpt.com/share/da60cd77-3e9a-4c30-9dcf-901ed0570be7\">https://chatgpt.com/share/da60cd77-3e9a-4c30-9dcf-901ed0570be7</a>\n",
    "</p>"
   ]
  },
  {
   "cell_type": "markdown",
   "id": "ce207aaf",
   "metadata": {},
   "source": [
    "<h2>Pre-lecture Homework</h2>"
   ]
  },
  {
   "cell_type": "markdown",
   "id": "60fc7705",
   "metadata": {},
   "source": [
    "<h3>Step 1: Grabbing a dataset from a tutorial and the subsequent relevant code to accompany it</h3>\n",
    "<p>I will be using the <a href=\"https://raw.githubusercontent.com/datasets/co2-fossil-global/master/global.csv\">\"Global CO2 Emissions\"</a> Dataset from my TUT0207 tutorial. The accompanying code is displayed below."
   ]
  },
  {
   "cell_type": "code",
   "execution_count": 20,
   "id": "e8271a03",
   "metadata": {},
   "outputs": [
    {
     "name": "stdout",
     "output_type": "stream",
     "text": [
      "   Year  Total  Gas Fuel  Liquid Fuel  Solid Fuel  Cement  Gas Flaring   \n",
      "0  1751      3         0            0           3       0            0  \\\n",
      "1  1752      3         0            0           3       0            0   \n",
      "2  1753      3         0            0           3       0            0   \n",
      "3  1754      3         0            0           3       0            0   \n",
      "4  1755      3         0            0           3       0            0   \n",
      "\n",
      "   Per Capita  \n",
      "0         NaN  \n",
      "1         NaN  \n",
      "2         NaN  \n",
      "3         NaN  \n",
      "4         NaN  \n"
     ]
    }
   ],
   "source": [
    "import pandas as pd\n",
    "\n",
    "# Step 1: Download the CSV file\n",
    "url = 'https://raw.githubusercontent.com/datasets/co2-fossil-global/master/global.csv'\n",
    "\n",
    "# Step 3: Read the CSV data into a DataFrame\n",
    "df = pd.read_csv(url)\n",
    "\n",
    "# Step 4: Display the DataFrame (optional)\n",
    "print(df.head())"
   ]
  },
  {
   "cell_type": "markdown",
   "id": "12352c93",
   "metadata": {},
   "source": [
    "<h3>Step 2: Asking ChatGPT to produce code on how many rows of data are contained within the dataset.</h3>\n",
    "<p>ChatGPT has given me a recommendation to use the \"df.shape\" attribute, as it is an array containing the length and width of the dataframe. By asking for the zero index, we are retrieving only the number of rows whereas the one index would return the number of collumns.</p>"
   ]
  },
  {
   "cell_type": "code",
   "execution_count": 21,
   "id": "62f0f183",
   "metadata": {},
   "outputs": [
    {
     "name": "stdout",
     "output_type": "stream",
     "text": [
      "The DataFrame has 260 rows.\n"
     ]
    }
   ],
   "source": [
    "# Print the number of rows in the DataFrame\n",
    "print(f'The DataFrame has {df.shape[0]} rows.')"
   ]
  },
  {
   "cell_type": "markdown",
   "id": "09bda549",
   "metadata": {},
   "source": [
    "<h3>Step 3: Asking ChatGPT to produce code which will create summaries about the columns for my dataframe</h3>"
   ]
  },
  {
   "cell_type": "markdown",
   "id": "06220512",
   "metadata": {},
   "source": [
    "<p>The code seen below is taken directly from ChatGPT and WILL PRODUCE an error.</p>"
   ]
  },
  {
   "cell_type": "code",
   "execution_count": 22,
   "id": "dcd2068b",
   "metadata": {},
   "outputs": [
    {
     "name": "stdout",
     "output_type": "stream",
     "text": [
      "Summary statistics:\n",
      "              Year        Total    Gas Fuel  Liquid Fuel   Solid Fuel   \n",
      "count   260.000000   260.000000   260.00000   260.000000   260.000000  \\\n",
      "mean   1880.500000  1402.788462   185.20000   495.819231   674.569231   \n",
      "std      75.199734  2253.098527   396.58556   934.308074   868.368580   \n",
      "min    1751.000000     3.000000     0.00000     0.000000     3.000000   \n",
      "25%    1815.750000    12.750000     0.00000     0.000000    12.750000   \n",
      "50%    1880.500000   239.500000     0.00000     3.000000   236.000000   \n",
      "75%    1945.250000  1385.000000    59.50000   279.250000  1023.500000   \n",
      "max    2010.000000  9167.000000  1702.00000  3122.000000  3842.000000   \n",
      "\n",
      "           Cement  Gas Flaring  Per Capita  \n",
      "count  260.000000   260.000000   61.000000  \n",
      "mean    34.161538    13.065385    1.054754  \n",
      "std     78.899604    26.311315    0.178630  \n",
      "min      0.000000     0.000000    0.640000  \n",
      "25%      0.000000     0.000000    0.940000  \n",
      "50%      0.000000     0.000000    1.120000  \n",
      "75%     12.000000     0.000000    1.170000  \n",
      "max    450.000000   110.000000    1.330000  \n"
     ]
    },
    {
     "ename": "KeyError",
     "evalue": "'column_name'",
     "output_type": "error",
     "traceback": [
      "\u001b[1;31m---------------------------------------------------------------------------\u001b[0m",
      "\u001b[1;31mKeyError\u001b[0m                                  Traceback (most recent call last)",
      "File \u001b[1;32m~\\AppData\\Local\\Packages\\PythonSoftwareFoundation.Python.3.10_qbz5n2kfra8p0\\LocalCache\\local-packages\\Python310\\site-packages\\pandas\\core\\indexes\\base.py:3652\u001b[0m, in \u001b[0;36mIndex.get_loc\u001b[1;34m(self, key)\u001b[0m\n\u001b[0;32m   3651\u001b[0m \u001b[38;5;28;01mtry\u001b[39;00m:\n\u001b[1;32m-> 3652\u001b[0m     \u001b[38;5;28;01mreturn\u001b[39;00m \u001b[38;5;28;43mself\u001b[39;49m\u001b[38;5;241;43m.\u001b[39;49m\u001b[43m_engine\u001b[49m\u001b[38;5;241;43m.\u001b[39;49m\u001b[43mget_loc\u001b[49m\u001b[43m(\u001b[49m\u001b[43mcasted_key\u001b[49m\u001b[43m)\u001b[49m\n\u001b[0;32m   3653\u001b[0m \u001b[38;5;28;01mexcept\u001b[39;00m \u001b[38;5;167;01mKeyError\u001b[39;00m \u001b[38;5;28;01mas\u001b[39;00m err:\n",
      "File \u001b[1;32m~\\AppData\\Local\\Packages\\PythonSoftwareFoundation.Python.3.10_qbz5n2kfra8p0\\LocalCache\\local-packages\\Python310\\site-packages\\pandas\\_libs\\index.pyx:147\u001b[0m, in \u001b[0;36mpandas._libs.index.IndexEngine.get_loc\u001b[1;34m()\u001b[0m\n",
      "File \u001b[1;32m~\\AppData\\Local\\Packages\\PythonSoftwareFoundation.Python.3.10_qbz5n2kfra8p0\\LocalCache\\local-packages\\Python310\\site-packages\\pandas\\_libs\\index.pyx:176\u001b[0m, in \u001b[0;36mpandas._libs.index.IndexEngine.get_loc\u001b[1;34m()\u001b[0m\n",
      "File \u001b[1;32mpandas\\_libs\\hashtable_class_helper.pxi:7080\u001b[0m, in \u001b[0;36mpandas._libs.hashtable.PyObjectHashTable.get_item\u001b[1;34m()\u001b[0m\n",
      "File \u001b[1;32mpandas\\_libs\\hashtable_class_helper.pxi:7088\u001b[0m, in \u001b[0;36mpandas._libs.hashtable.PyObjectHashTable.get_item\u001b[1;34m()\u001b[0m\n",
      "\u001b[1;31mKeyError\u001b[0m: 'column_name'",
      "\nThe above exception was the direct cause of the following exception:\n",
      "\u001b[1;31mKeyError\u001b[0m                                  Traceback (most recent call last)",
      "Cell \u001b[1;32mIn[22], line 8\u001b[0m\n\u001b[0;32m      6\u001b[0m \u001b[38;5;66;03m# 2. Get value counts for a specific column (replace 'column_name' with the actual column)\u001b[39;00m\n\u001b[0;32m      7\u001b[0m column_name \u001b[38;5;241m=\u001b[39m \u001b[38;5;124m'\u001b[39m\u001b[38;5;124mcolumn_name\u001b[39m\u001b[38;5;124m'\u001b[39m\n\u001b[1;32m----> 8\u001b[0m value_counts \u001b[38;5;241m=\u001b[39m \u001b[43mdf\u001b[49m\u001b[43m[\u001b[49m\u001b[43mcolumn_name\u001b[49m\u001b[43m]\u001b[49m\u001b[38;5;241m.\u001b[39mvalue_counts()\n\u001b[0;32m      9\u001b[0m \u001b[38;5;28mprint\u001b[39m(\u001b[38;5;124mf\u001b[39m\u001b[38;5;124m\"\u001b[39m\u001b[38;5;130;01m\\n\u001b[39;00m\u001b[38;5;124mValue counts for \u001b[39m\u001b[38;5;124m'\u001b[39m\u001b[38;5;132;01m{\u001b[39;00mcolumn_name\u001b[38;5;132;01m}\u001b[39;00m\u001b[38;5;124m'\u001b[39m\u001b[38;5;124m:\u001b[39m\u001b[38;5;124m\"\u001b[39m)\n\u001b[0;32m     10\u001b[0m \u001b[38;5;28mprint\u001b[39m(value_counts)\n",
      "File \u001b[1;32m~\\AppData\\Local\\Packages\\PythonSoftwareFoundation.Python.3.10_qbz5n2kfra8p0\\LocalCache\\local-packages\\Python310\\site-packages\\pandas\\core\\frame.py:3761\u001b[0m, in \u001b[0;36mDataFrame.__getitem__\u001b[1;34m(self, key)\u001b[0m\n\u001b[0;32m   3759\u001b[0m \u001b[38;5;28;01mif\u001b[39;00m \u001b[38;5;28mself\u001b[39m\u001b[38;5;241m.\u001b[39mcolumns\u001b[38;5;241m.\u001b[39mnlevels \u001b[38;5;241m>\u001b[39m \u001b[38;5;241m1\u001b[39m:\n\u001b[0;32m   3760\u001b[0m     \u001b[38;5;28;01mreturn\u001b[39;00m \u001b[38;5;28mself\u001b[39m\u001b[38;5;241m.\u001b[39m_getitem_multilevel(key)\n\u001b[1;32m-> 3761\u001b[0m indexer \u001b[38;5;241m=\u001b[39m \u001b[38;5;28;43mself\u001b[39;49m\u001b[38;5;241;43m.\u001b[39;49m\u001b[43mcolumns\u001b[49m\u001b[38;5;241;43m.\u001b[39;49m\u001b[43mget_loc\u001b[49m\u001b[43m(\u001b[49m\u001b[43mkey\u001b[49m\u001b[43m)\u001b[49m\n\u001b[0;32m   3762\u001b[0m \u001b[38;5;28;01mif\u001b[39;00m is_integer(indexer):\n\u001b[0;32m   3763\u001b[0m     indexer \u001b[38;5;241m=\u001b[39m [indexer]\n",
      "File \u001b[1;32m~\\AppData\\Local\\Packages\\PythonSoftwareFoundation.Python.3.10_qbz5n2kfra8p0\\LocalCache\\local-packages\\Python310\\site-packages\\pandas\\core\\indexes\\base.py:3654\u001b[0m, in \u001b[0;36mIndex.get_loc\u001b[1;34m(self, key)\u001b[0m\n\u001b[0;32m   3652\u001b[0m     \u001b[38;5;28;01mreturn\u001b[39;00m \u001b[38;5;28mself\u001b[39m\u001b[38;5;241m.\u001b[39m_engine\u001b[38;5;241m.\u001b[39mget_loc(casted_key)\n\u001b[0;32m   3653\u001b[0m \u001b[38;5;28;01mexcept\u001b[39;00m \u001b[38;5;167;01mKeyError\u001b[39;00m \u001b[38;5;28;01mas\u001b[39;00m err:\n\u001b[1;32m-> 3654\u001b[0m     \u001b[38;5;28;01mraise\u001b[39;00m \u001b[38;5;167;01mKeyError\u001b[39;00m(key) \u001b[38;5;28;01mfrom\u001b[39;00m \u001b[38;5;21;01merr\u001b[39;00m\n\u001b[0;32m   3655\u001b[0m \u001b[38;5;28;01mexcept\u001b[39;00m \u001b[38;5;167;01mTypeError\u001b[39;00m:\n\u001b[0;32m   3656\u001b[0m     \u001b[38;5;66;03m# If we have a listlike key, _check_indexing_error will raise\u001b[39;00m\n\u001b[0;32m   3657\u001b[0m     \u001b[38;5;66;03m#  InvalidIndexError. Otherwise we fall through and re-raise\u001b[39;00m\n\u001b[0;32m   3658\u001b[0m     \u001b[38;5;66;03m#  the TypeError.\u001b[39;00m\n\u001b[0;32m   3659\u001b[0m     \u001b[38;5;28mself\u001b[39m\u001b[38;5;241m.\u001b[39m_check_indexing_error(key)\n",
      "\u001b[1;31mKeyError\u001b[0m: 'column_name'"
     ]
    }
   ],
   "source": [
    "# 1. Get summary statistics for numerical columns\n",
    "summary_stats = df.describe()\n",
    "print(\"Summary statistics:\")\n",
    "print(summary_stats)\n",
    "\n",
    "# 2. Get value counts for a specific column (replace 'column_name' with the actual column)\n",
    "column_name = 'column_name'\n",
    "value_counts = df[column_name].value_counts()\n",
    "print(f\"\\nValue counts for '{column_name}':\")\n",
    "print(value_counts)"
   ]
  },
  {
   "cell_type": "markdown",
   "id": "beb28c2f",
   "metadata": {},
   "source": [
    "<p>To fix this issue, we look at the interpreter's throwing of the KeyError and realize that we need a more specific solution for each individual colunmn within this code. I will be referencing the Pandas documentation and python documentation to debug this code rather than trying to describe my dataset to ChatGPT.</p>"
   ]
  },
  {
   "cell_type": "code",
   "execution_count": 23,
   "id": "c91159d3",
   "metadata": {},
   "outputs": [
    {
     "name": "stdout",
     "output_type": "stream",
     "text": [
      "Summary statistics:\n",
      "              Year        Total    Gas Fuel  Liquid Fuel   Solid Fuel   \n",
      "count   260.000000   260.000000   260.00000   260.000000   260.000000  \\\n",
      "mean   1880.500000  1402.788462   185.20000   495.819231   674.569231   \n",
      "std      75.199734  2253.098527   396.58556   934.308074   868.368580   \n",
      "min    1751.000000     3.000000     0.00000     0.000000     3.000000   \n",
      "25%    1815.750000    12.750000     0.00000     0.000000    12.750000   \n",
      "50%    1880.500000   239.500000     0.00000     3.000000   236.000000   \n",
      "75%    1945.250000  1385.000000    59.50000   279.250000  1023.500000   \n",
      "max    2010.000000  9167.000000  1702.00000  3122.000000  3842.000000   \n",
      "\n",
      "           Cement  Gas Flaring  Per Capita  \n",
      "count  260.000000   260.000000   61.000000  \n",
      "mean    34.161538    13.065385    1.054754  \n",
      "std     78.899604    26.311315    0.178630  \n",
      "min      0.000000     0.000000    0.640000  \n",
      "25%      0.000000     0.000000    0.940000  \n",
      "50%      0.000000     0.000000    1.120000  \n",
      "75%     12.000000     0.000000    1.170000  \n",
      "max    450.000000   110.000000    1.330000  \n",
      "\n",
      "Value counts for 'Year':\n",
      "Year\n",
      "1751    1\n",
      "1914    1\n",
      "1916    1\n",
      "1917    1\n",
      "1918    1\n",
      "       ..\n",
      "1842    1\n",
      "1843    1\n",
      "1844    1\n",
      "1845    1\n",
      "2010    1\n",
      "Name: count, Length: 260, dtype: int64\n",
      "\n",
      "Value counts for 'Total':\n",
      "Total\n",
      "3       20\n",
      "5       10\n",
      "4       10\n",
      "6        6\n",
      "10       6\n",
      "        ..\n",
      "419      1\n",
      "440      1\n",
      "465      1\n",
      "507      1\n",
      "9167     1\n",
      "Name: count, Length: 190, dtype: int64\n",
      "\n",
      "Value counts for 'Gas Fuel':\n",
      "Gas Fuel\n",
      "0       134\n",
      "2         9\n",
      "3         5\n",
      "5         5\n",
      "4         4\n",
      "       ... \n",
      "138       1\n",
      "131       1\n",
      "124       1\n",
      "115       1\n",
      "1702      1\n",
      "Name: count, Length: 94, dtype: int64\n",
      "\n",
      "Value counts for 'Liquid Fuel':\n",
      "Liquid Fuel\n",
      "0       119\n",
      "1         7\n",
      "4         4\n",
      "5         3\n",
      "9         3\n",
      "       ... \n",
      "143       1\n",
      "136       1\n",
      "119       1\n",
      "116       1\n",
      "3114      1\n",
      "Name: count, Length: 121, dtype: int64\n",
      "\n",
      "Value counts for 'Solid Fuel':\n",
      "Solid Fuel\n",
      "3       20\n",
      "5       10\n",
      "4       10\n",
      "10       6\n",
      "6        6\n",
      "        ..\n",
      "405      1\n",
      "425      1\n",
      "449      1\n",
      "491      1\n",
      "3842     1\n",
      "Name: count, Length: 188, dtype: int64\n",
      "\n",
      "Value counts for 'Cement':\n",
      "Cement\n",
      "0      177\n",
      "10       5\n",
      "7        4\n",
      "11       4\n",
      "12       3\n",
      "      ... \n",
      "74       1\n",
      "78       1\n",
      "84       1\n",
      "89       1\n",
      "450      1\n",
      "Name: count, Length: 68, dtype: int64\n",
      "\n",
      "Value counts for 'Gas Flaring':\n",
      "Gas Flaring\n",
      "0      199\n",
      "35       4\n",
      "44       3\n",
      "36       3\n",
      "64       2\n",
      "46       2\n",
      "38       2\n",
      "66       2\n",
      "60       2\n",
      "51       2\n",
      "27       2\n",
      "48       2\n",
      "45       1\n",
      "50       1\n",
      "86       1\n",
      "71       1\n",
      "58       1\n",
      "49       1\n",
      "68       1\n",
      "40       1\n",
      "41       1\n",
      "61       1\n",
      "53       1\n",
      "37       1\n",
      "106      1\n",
      "33       1\n",
      "98       1\n",
      "107      1\n",
      "104      1\n",
      "55       1\n",
      "24       1\n",
      "26       1\n",
      "31       1\n",
      "32       1\n",
      "39       1\n",
      "42       1\n",
      "47       1\n",
      "73       1\n",
      "108      1\n",
      "80       1\n",
      "87       1\n",
      "88       1\n",
      "94       1\n",
      "110      1\n",
      "23       1\n",
      "92       1\n",
      "59       1\n",
      "Name: count, dtype: int64\n",
      "\n",
      "Value counts for 'Per Capita':\n",
      "Per Capita\n",
      "1.12    6\n",
      "1.11    5\n",
      "1.13    4\n",
      "0.69    3\n",
      "1.14    3\n",
      "1.16    3\n",
      "1.17    3\n",
      "1.18    2\n",
      "1.19    2\n",
      "1.10    2\n",
      "1.28    2\n",
      "1.15    1\n",
      "1.20    1\n",
      "1.23    1\n",
      "1.21    1\n",
      "1.24    1\n",
      "1.27    1\n",
      "1.30    1\n",
      "1.09    1\n",
      "0.64    1\n",
      "1.05    1\n",
      "0.85    1\n",
      "0.68    1\n",
      "0.74    1\n",
      "0.77    1\n",
      "0.79    1\n",
      "0.80    1\n",
      "0.83    1\n",
      "0.84    1\n",
      "1.01    1\n",
      "0.86    1\n",
      "0.88    1\n",
      "0.92    1\n",
      "0.94    1\n",
      "0.97    1\n",
      "0.98    1\n",
      "1.33    1\n",
      "Name: count, dtype: int64\n"
     ]
    }
   ],
   "source": [
    "# 1. Get summary statistics for numerical columns\n",
    "summary_stats = df.describe()\n",
    "print(\"Summary statistics:\")\n",
    "print(summary_stats)\n",
    "\n",
    "# 2. Get value counts for a specific column (replace 'column_name' with the actual column) (INCORRECT)\n",
    "\n",
    "## The code below was given directly by ChatGPT and caused bugs before.\n",
    "# column_name = 'column_name'\n",
    "\n",
    "## https://www.geeksforgeeks.org/ was also used in trying to remedy this bug.\n",
    "# 2. Get the values of each element in the column names by using df.columns\n",
    "\n",
    "column_names = list(df.columns)\n",
    "\n",
    "# 3. Use a for-each loop to provide summaries for each individual column present in the dataframe\n",
    "\n",
    "for column_name in column_names:\n",
    "    value_counts = df[column_name].value_counts()\n",
    "    print(f\"\\nValue counts for '{column_name}':\")\n",
    "    print(value_counts)"
   ]
  },
  {
   "cell_type": "markdown",
   "id": "c058b74e",
   "metadata": {},
   "source": [
    "<h3>Step 4: Describing descrepancies between the summaries of each column and that of the dataframe</h3>\n",
    "<p>When analyzing this dataframe, it is clear that for certain year, somee values may not have been recorded. However, missing attributes in certain columns will not relfect or impact the size of the dataframe as a whole, as the size of the 2D array is dependent on the maximum number of rows for any column rather than the maximum number of rows that they share. Thus, this descrepancy is easily explained and is to be expected.</p><br>"
   ]
  },
  {
   "cell_type": "markdown",
   "id": "bab30cd9",
   "metadata": {},
   "source": [
    "<h3>Step 5: Using ChatGPT to describe the differences between attributes and methods</h3>\n",
    "<p>Using the paradigm of Object Oriented Programming (which Python heavily implements), we can easily explain the differences between the methods which introduce parentheses at the end, and the attributes (or instance/static variables) that are called upon without the use of parentheses.</p>\n",
    "<p></p>\n",
    "<p><b>For example, take a look at the code below:</b></p>"
   ]
  },
  {
   "cell_type": "code",
   "execution_count": 24,
   "id": "79924846",
   "metadata": {},
   "outputs": [],
   "source": [
    "class dataframe:\n",
    "    \n",
    "    def __init__(self, rows: int, columns: int):\n",
    "        self.rows = rows\n",
    "        self.columns = columns\n",
    "        self.shape = [rows, columns]\n",
    "        \n",
    "    def describe(self):\n",
    "        return f\"The dimensions of the dataframe consists of {self.rows} rows and {self.columns} columns.\"\n",
    "    "
   ]
  },
  {
   "cell_type": "markdown",
   "id": "a44ca280",
   "metadata": {},
   "source": [
    "<p>In the simple sample class written above, we can see that self.columns refers to a variable that belongs to this instance of the dataframe. If the user creates a new dataframe \"df\" and gives it the dimensions of 50 rows and 50 columns, the value of df.shape would also be equal to [50, 50].</p>\n",
    "<p></p>\n",
    "<p>If the user was to then make another dataframe, this time called \"df_2\", and assigns it the dimensions of 60 rows and 70 columns, the value of df_2.shape would then be equal to [60, 70].</p>\n",
    "<p></p>\n",
    "<p><b>Notice how the creation of df_2 does not modify the value of the original df.shape- and thus is the unique difference between an attribute and a regular variable.</b></p>"
   ]
  },
  {
   "cell_type": "markdown",
   "id": "fb809393",
   "metadata": {},
   "source": [
    "<p>However, a method is a way for any user to access or modify the values within an object or class. Thus, we can also refer to these methods as a form of \"interface\".</p>\n",
    "<p></p>\n",
    "<p><b>For example, let's examine the code below:</b></p>"
   ]
  },
  {
   "cell_type": "code",
   "execution_count": 25,
   "id": "ac6eb840",
   "metadata": {},
   "outputs": [
    {
     "name": "stdout",
     "output_type": "stream",
     "text": [
      "The dimensions of the dataframe consists of 80 rows and 100 columns.\n"
     ]
    }
   ],
   "source": [
    "if __name__ == \"__main__\":\n",
    "    df = dataframe(rows=80, columns=100)\n",
    "    print(df.describe())"
   ]
  },
  {
   "cell_type": "markdown",
   "id": "80cc5360",
   "metadata": {},
   "source": [
    "<p>The use of df.describe() calls upon the dataframe.describe() to help us access information about the object (in this case, our dataframe) and thus fulfills the requirements for a method. We call this type of method an \"accessor method\".</p>"
   ]
  }
 ],
 "metadata": {
  "kernelspec": {
   "display_name": "Python 3 (ipykernel)",
   "language": "python",
   "name": "python3"
  },
  "language_info": {
   "codemirror_mode": {
    "name": "ipython",
    "version": 3
   },
   "file_extension": ".py",
   "mimetype": "text/x-python",
   "name": "python",
   "nbconvert_exporter": "python",
   "pygments_lexer": "ipython3",
   "version": "3.10.11"
  }
 },
 "nbformat": 4,
 "nbformat_minor": 5
}
